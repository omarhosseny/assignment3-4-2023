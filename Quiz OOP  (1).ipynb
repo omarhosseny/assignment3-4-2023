{
 "cells": [
  {
   "cell_type": "markdown",
   "id": "1b7e756f-cdf2-4102-ae1e-fe8b43849c66",
   "metadata": {},
   "source": [
    "# I need a Game for Car \n",
    "\n",
    "when i input start print \"I'm ready to go \"\n",
    "\n",
    "when i input stop print \"Car stop\"\n",
    "\n",
    "when i input Quit stop the game \n",
    "\n",
    "and add help to help him in this choise if he didn't know --> like a massage to till him"
   ]
  },
  {
   "cell_type": "code",
   "execution_count": 12,
   "id": "63f4576d-ed25-4fb9-832a-399567f38269",
   "metadata": {},
   "outputs": [
    {
     "name": "stdin",
     "output_type": "stream",
     "text": [
      "Select : start ,stop , quit Start\n"
     ]
    },
    {
     "name": "stdout",
     "output_type": "stream",
     "text": [
      "I'm ready to go\n"
     ]
    }
   ],
   "source": [
    "choise = input('Select : start ,stop , quit')\n",
    "class car:\n",
    "    def __init__(self,action):\n",
    "        self.action = action\n",
    "        \n",
    "    def printer(self):\n",
    "        msg = self.action\n",
    "        if msg.lower() == 'start':\n",
    "            print('I\\'m ready to go')\n",
    "        elif msg.lower() == 'stop':\n",
    "            print('Car stop')\n",
    "        elif msg.lower() == 'quit':\n",
    "            pass\n",
    "        else:\n",
    "            print('non of choise Select : start ,stop , quit')\n",
    "x = car(choise)\n",
    "x.printer()"
   ]
  },
  {
   "cell_type": "code",
   "execution_count": null,
   "id": "9b7f388f-f528-408a-b201-702f85824e76",
   "metadata": {},
   "outputs": [],
   "source": []
  },
  {
   "cell_type": "code",
   "execution_count": null,
   "id": "7351790d-e194-42a3-b2c6-acd84a3da816",
   "metadata": {},
   "outputs": [],
   "source": []
  },
  {
   "cell_type": "markdown",
   "id": "66397f40-91a5-4c2b-a612-094a6732e697",
   "metadata": {},
   "source": [
    "# I need math game \n",
    "\n",
    "when i choise any number give my the maltiplcation of it like \n",
    "\n",
    "1*1=1\n",
    "\n",
    "1*2=2\n",
    "\n",
    "1*3=3\n",
    "\n",
    "so on ..."
   ]
  },
  {
   "cell_type": "code",
   "execution_count": 14,
   "id": "2bf90b39-06e4-4cdf-9c3a-667649a1b356",
   "metadata": {},
   "outputs": [
    {
     "name": "stdin",
     "output_type": "stream",
     "text": [
      "first number 2\n",
      "second number 6\n"
     ]
    },
    {
     "data": {
      "text/plain": [
       "12.0"
      ]
     },
     "execution_count": 14,
     "metadata": {},
     "output_type": "execute_result"
    }
   ],
   "source": [
    "num1 = float(input('first number'))\n",
    "num2 = float(input('second number'))\n",
    "class calculator:\n",
    "    def __init__(self,num1,num2):\n",
    "        self.num1 = num1\n",
    "        self.num2 = num2\n",
    "        \n",
    "    def mult(self):\n",
    "        return self.num1 * self.num2\n",
    "x = calculator(num1,num2)\n",
    "x.mult()"
   ]
  },
  {
   "cell_type": "markdown",
   "id": "713f9b31-0a7e-44a5-93c6-f2fb277d365e",
   "metadata": {},
   "source": [
    "# Note"
   ]
  },
  {
   "cell_type": "markdown",
   "id": "20ebb7a5-0599-4bd5-b3a3-ad40761943da",
   "metadata": {},
   "source": [
    "### To help you i need a class that have both this game and anther function in this class make me choise what i need to play the car game or math game "
   ]
  },
  {
   "cell_type": "code",
   "execution_count": 3,
   "id": "a8685501-82b7-483d-9198-3148e02e9c7a",
   "metadata": {},
   "outputs": [
    {
     "name": "stdin",
     "output_type": "stream",
     "text": [
      "Select Game : calculator or car calculator\n",
      "first number 3\n",
      "second number 5\n"
     ]
    },
    {
     "name": "stdout",
     "output_type": "stream",
     "text": [
      "15.0\n"
     ]
    }
   ],
   "source": [
    "class games:\n",
    "    def mult(self,num1,num2):\n",
    "        print (num1 * num2)\n",
    "    \n",
    "    def printer(self,action):\n",
    "        msg = action\n",
    "        if msg.lower() == 'start':\n",
    "            print('I\\'m ready to go')\n",
    "        elif msg.lower() == 'stop':\n",
    "            print('Car stop')\n",
    "        elif msg.lower() == 'quit':\n",
    "            pass\n",
    "        else:\n",
    "            print('non of choise Select : start ,stop , quit')\n",
    "    \n",
    "class game(games):\n",
    "    def __init__(self,choise):\n",
    "        self.choise = choise\n",
    "    def choises(self,action,num1,num2):\n",
    "        choise = self.choise\n",
    "        if choise.lower() == 'calculator':\n",
    "            self.mult(num1,num2)\n",
    "        elif choise.lower() == 'car':\n",
    "            self.printer(action)\n",
    "        else:\n",
    "            print('Not Exist')\n",
    "            \n",
    "choise = input('Select Game : calculator or car')\n",
    "if choise.lower() == 'calculator':\n",
    "    num1 = float(input('first number'))\n",
    "    num2 = float(input('second number'))\n",
    "    action = 'null'\n",
    "elif choise.lower() == 'car':\n",
    "    num1 = 'null'\n",
    "    num2 = 'null'\n",
    "    action = input('Select : start ,stop , quit')\n",
    "else:\n",
    "    print('Not Exist')\n",
    "game = game(choise)\n",
    "game.choises(action,num1,num2)"
   ]
  },
  {
   "cell_type": "code",
   "execution_count": null,
   "id": "4dc3c889-66f9-4060-925b-67d1f5a2981a",
   "metadata": {},
   "outputs": [],
   "source": []
  }
 ],
 "metadata": {
  "kernelspec": {
   "display_name": "Python 3 (ipykernel)",
   "language": "python",
   "name": "python3"
  },
  "language_info": {
   "codemirror_mode": {
    "name": "ipython",
    "version": 3
   },
   "file_extension": ".py",
   "mimetype": "text/x-python",
   "name": "python",
   "nbconvert_exporter": "python",
   "pygments_lexer": "ipython3",
   "version": "3.9.12"
  }
 },
 "nbformat": 4,
 "nbformat_minor": 5
}
